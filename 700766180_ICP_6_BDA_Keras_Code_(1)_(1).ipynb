{
  "nbformat": 4,
  "nbformat_minor": 0,
  "metadata": {
    "colab": {
      "provenance": []
    },
    "kernelspec": {
      "name": "python3",
      "display_name": "Python 3"
    },
    "language_info": {
      "name": "python"
    }
  },
  "cells": [
    {
      "cell_type": "markdown",
      "source": [
        "***Simple Neural Network with Keras Sequential API***"
      ],
      "metadata": {
        "id": "f8QdGW-45_Tv"
      }
    },
    {
      "cell_type": "code",
      "source": [
        "import tensorflow as tf\n",
        "from tensorflow.keras.models import Sequential\n",
        "from tensorflow.keras.layers import Dense\n",
        "import numpy as np\n",
        "\n",
        "# Generate some random data\n",
        "x_train = np.random.random((1000, 20))  # 1000 samples, 20 features each\n",
        "y_train = np.random.randint(2, size=(1000, 1))  # Binary labels (0 or 1)\n",
        "\n",
        "x_test = np.random.random((200, 20))  # 200 test samples\n",
        "y_test = np.random.randint(2, size=(200, 1))  # Binary labels for testing\n",
        "\n",
        "# Build a Sequential model\n",
        "model = Sequential()\n",
        "\n",
        "# Add a hidden layer with 64 neurons and ReLU activation\n",
        "model.add(Dense(64, activation='relu', input_shape=(20,)))\n",
        "\n",
        "# Add another hidden layer with 32 neurons and ReLU activation\n",
        "model.add(Dense(32, activation='relu'))\n",
        "\n",
        "# Add an output layer with 1 neuron and sigmoid activation for binary classification\n",
        "model.add(Dense(1, activation='sigmoid'))\n",
        "\n",
        "# Compile the model\n",
        "model.compile(optimizer='adam',\n",
        "              loss='binary_crossentropy',\n",
        "              metrics=['accuracy'])\n",
        "\n",
        "# Train the model\n",
        "model.fit(x_train, y_train, epochs=5, batch_size=32)\n",
        "\n",
        "# Evaluate the model on the test data\n",
        "test_loss, test_acc = model.evaluate(x_test, y_test)\n",
        "print(f'Test accuracy: {test_acc}')\n"
      ],
      "metadata": {
        "colab": {
          "base_uri": "https://localhost:8080/"
        },
        "id": "iJpPAbBG6LWQ",
        "outputId": "73ead131-938b-448e-a586-47fb390a0a1a"
      },
      "execution_count": null,
      "outputs": [
        {
          "output_type": "stream",
          "name": "stdout",
          "text": [
            "Epoch 1/5\n"
          ]
        },
        {
          "output_type": "stream",
          "name": "stderr",
          "text": [
            "/usr/local/lib/python3.10/dist-packages/keras/src/layers/core/dense.py:87: UserWarning: Do not pass an `input_shape`/`input_dim` argument to a layer. When using Sequential models, prefer using an `Input(shape)` object as the first layer in the model instead.\n",
            "  super().__init__(activity_regularizer=activity_regularizer, **kwargs)\n"
          ]
        },
        {
          "output_type": "stream",
          "name": "stdout",
          "text": [
            "\u001b[1m32/32\u001b[0m \u001b[32m━━━━━━━━━━━━━━━━━━━━\u001b[0m\u001b[37m\u001b[0m \u001b[1m1s\u001b[0m 2ms/step - accuracy: 0.5043 - loss: 0.6953\n",
            "Epoch 2/5\n",
            "\u001b[1m32/32\u001b[0m \u001b[32m━━━━━━━━━━━━━━━━━━━━\u001b[0m\u001b[37m\u001b[0m \u001b[1m0s\u001b[0m 1ms/step - accuracy: 0.5387 - loss: 0.6913 \n",
            "Epoch 3/5\n",
            "\u001b[1m32/32\u001b[0m \u001b[32m━━━━━━━━━━━━━━━━━━━━\u001b[0m\u001b[37m\u001b[0m \u001b[1m0s\u001b[0m 2ms/step - accuracy: 0.5419 - loss: 0.6877\n",
            "Epoch 4/5\n",
            "\u001b[1m32/32\u001b[0m \u001b[32m━━━━━━━━━━━━━━━━━━━━\u001b[0m\u001b[37m\u001b[0m \u001b[1m0s\u001b[0m 2ms/step - accuracy: 0.5706 - loss: 0.6858\n",
            "Epoch 5/5\n",
            "\u001b[1m32/32\u001b[0m \u001b[32m━━━━━━━━━━━━━━━━━━━━\u001b[0m\u001b[37m\u001b[0m \u001b[1m0s\u001b[0m 2ms/step - accuracy: 0.5130 - loss: 0.6868 \n",
            "\u001b[1m7/7\u001b[0m \u001b[32m━━━━━━━━━━━━━━━━━━━━\u001b[0m\u001b[37m\u001b[0m \u001b[1m0s\u001b[0m 2ms/step - accuracy: 0.4938 - loss: 0.7027  \n",
            "Test accuracy: 0.48500001430511475\n"
          ]
        }
      ]
    },
    {
      "cell_type": "markdown",
      "source": [
        "***Sequential API to create and train a neural network for classifying the MNIST dataset.***"
      ],
      "metadata": {
        "id": "ske7X0_r33aI"
      }
    },
    {
      "cell_type": "code",
      "source": [
        "import tensorflow as tf\n",
        "from tensorflow.keras.models import Sequential\n",
        "from tensorflow.keras.layers import Dense, Flatten\n",
        "from tensorflow.keras.datasets import mnist\n",
        "from tensorflow.keras.utils import to_categorical\n",
        "\n",
        "# Load the MNIST dataset\n",
        "(x_train, y_train), (x_test, y_test) = mnist.load_data()\n",
        "\n",
        "# Preprocess the data: normalize images and one-hot encode labels\n",
        "x_train = x_train.astype('float32') / 255.0\n",
        "x_test = x_test.astype('float32') / 255.0\n",
        "\n",
        "y_train = to_categorical(y_train, 10)\n",
        "y_test = to_categorical(y_test, 10)\n",
        "\n",
        "# Build a Sequential model\n",
        "model = Sequential()\n",
        "\n",
        "# Flatten the input (28x28 images) into a vector of size 784\n",
        "model.add(Flatten(input_shape=(28, 28)))\n",
        "\n",
        "# Add a hidden layer with 128 neurons and ReLU activation\n",
        "model.add(Dense(128, activation='relu'))\n",
        "\n",
        "# Add the output layer with 10 neurons (one for each class) and softmax activation\n",
        "model.add(Dense(10, activation='softmax'))\n",
        "\n",
        "# Compile the model\n",
        "model.compile(optimizer='adam',\n",
        "              loss='categorical_crossentropy',\n",
        "              metrics=['accuracy'])\n",
        "\n",
        "# Train the model\n",
        "model.fit(x_train, y_train, epochs=5, batch_size=32, validation_split=0.2)\n",
        "\n",
        "# Evaluate the model on the test data\n",
        "test_loss, test_acc = model.evaluate(x_test, y_test)\n",
        "print(f'Test accuracy: {test_acc}')\n"
      ],
      "metadata": {
        "colab": {
          "base_uri": "https://localhost:8080/"
        },
        "id": "ygO844pd3anG",
        "outputId": "650127cc-934e-4814-80d9-db8aedc500bc"
      },
      "execution_count": null,
      "outputs": [
        {
          "output_type": "stream",
          "name": "stderr",
          "text": [
            "/usr/local/lib/python3.10/dist-packages/keras/src/layers/reshaping/flatten.py:37: UserWarning: Do not pass an `input_shape`/`input_dim` argument to a layer. When using Sequential models, prefer using an `Input(shape)` object as the first layer in the model instead.\n",
            "  super().__init__(**kwargs)\n"
          ]
        },
        {
          "output_type": "stream",
          "name": "stdout",
          "text": [
            "Epoch 1/5\n",
            "\u001b[1m1500/1500\u001b[0m \u001b[32m━━━━━━━━━━━━━━━━━━━━\u001b[0m\u001b[37m\u001b[0m \u001b[1m8s\u001b[0m 5ms/step - accuracy: 0.8663 - loss: 0.4735 - val_accuracy: 0.9525 - val_loss: 0.1639\n",
            "Epoch 2/5\n",
            "\u001b[1m1500/1500\u001b[0m \u001b[32m━━━━━━━━━━━━━━━━━━━━\u001b[0m\u001b[37m\u001b[0m \u001b[1m8s\u001b[0m 3ms/step - accuracy: 0.9605 - loss: 0.1314 - val_accuracy: 0.9678 - val_loss: 0.1127\n",
            "Epoch 3/5\n",
            "\u001b[1m1500/1500\u001b[0m \u001b[32m━━━━━━━━━━━━━━━━━━━━\u001b[0m\u001b[37m\u001b[0m \u001b[1m11s\u001b[0m 4ms/step - accuracy: 0.9737 - loss: 0.0877 - val_accuracy: 0.9682 - val_loss: 0.1099\n",
            "Epoch 4/5\n",
            "\u001b[1m1500/1500\u001b[0m \u001b[32m━━━━━━━━━━━━━━━━━━━━\u001b[0m\u001b[37m\u001b[0m \u001b[1m7s\u001b[0m 5ms/step - accuracy: 0.9823 - loss: 0.0613 - val_accuracy: 0.9736 - val_loss: 0.0907\n",
            "Epoch 5/5\n",
            "\u001b[1m1500/1500\u001b[0m \u001b[32m━━━━━━━━━━━━━━━━━━━━\u001b[0m\u001b[37m\u001b[0m \u001b[1m9s\u001b[0m 4ms/step - accuracy: 0.9867 - loss: 0.0452 - val_accuracy: 0.9727 - val_loss: 0.0895\n",
            "\u001b[1m313/313\u001b[0m \u001b[32m━━━━━━━━━━━━━━━━━━━━\u001b[0m\u001b[37m\u001b[0m \u001b[1m1s\u001b[0m 2ms/step - accuracy: 0.9734 - loss: 0.0999\n",
            "Test accuracy: 0.9768999814987183\n"
          ]
        }
      ]
    },
    {
      "cell_type": "code",
      "source": [
        "import tensorflow as tf\n",
        "from tensorflow.keras.models import Sequential\n",
        "from tensorflow.keras.layers import Dense, Flatten, Dropout\n",
        "from tensorflow.keras.datasets import mnist\n",
        "from tensorflow.keras.utils import to_categorical\n",
        "\n",
        "# 1. Load and preprocess the MNIST dataset\n",
        "(x_train, y_train), (x_test, y_test) = mnist.load_data()\n",
        "\n",
        "# Normalize pixel values to [0, 1]\n",
        "x_train = x_train.astype('float32') / 255.0\n",
        "x_test = x_test.astype('float32') / 255.0\n",
        "\n",
        "# One-hot encode labels\n",
        "y_train = to_categorical(y_train, 10)\n",
        "y_test = to_categorical(y_test, 10)\n",
        "\n",
        "# 2. Build the model using Sequential API with 5 hidden layers (ReLU) and softmax output\n",
        "model = Sequential()\n",
        "model.add(Flatten(input_shape=(28, 28)))  # Input layer\n",
        "\n",
        "# 5 hidden layers with ReLU\n",
        "model.add(Dense(512, activation='relu'))\n",
        "model.add(Dense(256, activation='relu'))\n",
        "model.add(Dense(128, activation='relu'))\n",
        "model.add(Dense(64, activation='relu'))\n",
        "model.add(Dense(32, activation='relu'))\n",
        "\n",
        "# Output layer for 10 classes with softmax\n",
        "model.add(Dense(10, activation='softmax'))\n",
        "\n",
        "# 3. Compile with Adam optimizer (Try others below)\n",
        "model.compile(optimizer='rmsprop',  # Try 'sgd', 'rmsprop'\n",
        "              loss='categorical_crossentropy',\n",
        "              metrics=['accuracy'])\n",
        "\n",
        "# 4. Train the model\n",
        "history = model.fit(x_train, y_train, epochs=10, batch_size=64,\n",
        "                    validation_split=0.1, verbose=2)\n",
        "\n",
        "# 5. Evaluate on test data\n",
        "test_loss, test_acc = model.evaluate(x_test, y_test, verbose=0)\n",
        "print(f\"\\n✅ Test Accuracy: {test_acc * 100:.2f}%\")\n"
      ],
      "metadata": {
        "colab": {
          "base_uri": "https://localhost:8080/"
        },
        "id": "VBgci8152kdV",
        "outputId": "94de918f-d8b0-47ac-8a89-71ed742a4816"
      },
      "execution_count": 1,
      "outputs": [
        {
          "output_type": "stream",
          "name": "stdout",
          "text": [
            "Downloading data from https://storage.googleapis.com/tensorflow/tf-keras-datasets/mnist.npz\n",
            "\u001b[1m11490434/11490434\u001b[0m \u001b[32m━━━━━━━━━━━━━━━━━━━━\u001b[0m\u001b[37m\u001b[0m \u001b[1m0s\u001b[0m 0us/step\n"
          ]
        },
        {
          "output_type": "stream",
          "name": "stderr",
          "text": [
            "/usr/local/lib/python3.11/dist-packages/keras/src/layers/reshaping/flatten.py:37: UserWarning: Do not pass an `input_shape`/`input_dim` argument to a layer. When using Sequential models, prefer using an `Input(shape)` object as the first layer in the model instead.\n",
            "  super().__init__(**kwargs)\n"
          ]
        },
        {
          "output_type": "stream",
          "name": "stdout",
          "text": [
            "Epoch 1/10\n",
            "844/844 - 10s - 12ms/step - accuracy: 0.9155 - loss: 0.2689 - val_accuracy: 0.9633 - val_loss: 0.1278\n",
            "Epoch 2/10\n",
            "844/844 - 8s - 9ms/step - accuracy: 0.9698 - loss: 0.1046 - val_accuracy: 0.9612 - val_loss: 0.1367\n",
            "Epoch 3/10\n",
            "844/844 - 9s - 11ms/step - accuracy: 0.9785 - loss: 0.0729 - val_accuracy: 0.9800 - val_loss: 0.0686\n",
            "Epoch 4/10\n",
            "844/844 - 10s - 12ms/step - accuracy: 0.9833 - loss: 0.0570 - val_accuracy: 0.9763 - val_loss: 0.0801\n",
            "Epoch 5/10\n",
            "844/844 - 10s - 12ms/step - accuracy: 0.9879 - loss: 0.0432 - val_accuracy: 0.9752 - val_loss: 0.1062\n",
            "Epoch 6/10\n",
            "844/844 - 8s - 9ms/step - accuracy: 0.9896 - loss: 0.0379 - val_accuracy: 0.9798 - val_loss: 0.0872\n",
            "Epoch 7/10\n",
            "844/844 - 11s - 14ms/step - accuracy: 0.9916 - loss: 0.0314 - val_accuracy: 0.9812 - val_loss: 0.0884\n",
            "Epoch 8/10\n",
            "844/844 - 9s - 11ms/step - accuracy: 0.9926 - loss: 0.0280 - val_accuracy: 0.9800 - val_loss: 0.0951\n",
            "Epoch 9/10\n",
            "844/844 - 8s - 9ms/step - accuracy: 0.9938 - loss: 0.0229 - val_accuracy: 0.9792 - val_loss: 0.1127\n",
            "Epoch 10/10\n",
            "844/844 - 10s - 12ms/step - accuracy: 0.9946 - loss: 0.0210 - val_accuracy: 0.9838 - val_loss: 0.0916\n",
            "\n",
            "✅ Test Accuracy: 98.32%\n"
          ]
        }
      ]
    },
    {
      "cell_type": "code",
      "source": [
        "import tensorflow as tf\n",
        "from tensorflow.keras.models import Sequential\n",
        "from tensorflow.keras.layers import Dense, Flatten, Dropout\n",
        "from tensorflow.keras.datasets import mnist\n",
        "from tensorflow.keras.utils import to_categorical\n",
        "\n",
        "# 1. Load and preprocess the MNIST dataset\n",
        "(x_train, y_train), (x_test, y_test) = mnist.load_data()\n",
        "\n",
        "# Normalize pixel values to [0, 1]\n",
        "x_train = x_train.astype('float32') / 255.0\n",
        "x_test = x_test.astype('float32') / 255.0\n",
        "\n",
        "# One-hot encode labels\n",
        "y_train = to_categorical(y_train, 10)\n",
        "y_test = to_categorical(y_test, 10)\n",
        "\n",
        "# 2. Build the model using Sequential API with 5 hidden layers (ReLU) and softmax output\n",
        "model = Sequential()\n",
        "model.add(Flatten(input_shape=(28, 28)))  # Input layer\n",
        "\n",
        "# 5 hidden layers with ReLU\n",
        "model.add(Dense(512, activation='relu'))\n",
        "model.add(Dense(256, activation='relu'))\n",
        "model.add(Dense(128, activation='relu'))\n",
        "model.add(Dense(64, activation='relu'))\n",
        "model.add(Dense(32, activation='relu'))\n",
        "\n",
        "# Output layer for 10 classes with softmax\n",
        "model.add(Dense(10, activation='softmax'))\n",
        "\n",
        "# 3. Compile with Adam optimizer (Try others below)\n",
        "model.compile(optimizer='adam',  # Try 'sgd', 'rmsprop'\n",
        "              loss='categorical_crossentropy',\n",
        "              metrics=['accuracy'])\n",
        "\n",
        "# 4. Train the model\n",
        "history = model.fit(x_train, y_train, epochs=10, batch_size=64,\n",
        "                    validation_split=0.1, verbose=2)\n",
        "\n",
        "# 5. Evaluate on test data\n",
        "test_loss, test_acc = model.evaluate(x_test, y_test, verbose=0)\n",
        "print(f\"\\n✅ Test Accuracy: {test_acc * 100:.2f}%\")\n"
      ],
      "metadata": {
        "colab": {
          "base_uri": "https://localhost:8080/"
        },
        "id": "upq6QF804C-D",
        "outputId": "cdeff00f-0feb-4685-ec3b-fdd64acaef67"
      },
      "execution_count": null,
      "outputs": [
        {
          "output_type": "stream",
          "name": "stdout",
          "text": [
            "Epoch 1/10\n",
            "844/844 - 10s - 12ms/step - accuracy: 0.9240 - loss: 0.2516 - val_accuracy: 0.9668 - val_loss: 0.1117\n",
            "Epoch 2/10\n",
            "844/844 - 10s - 11ms/step - accuracy: 0.9700 - loss: 0.0973 - val_accuracy: 0.9792 - val_loss: 0.0756\n",
            "Epoch 3/10\n",
            "844/844 - 10s - 12ms/step - accuracy: 0.9781 - loss: 0.0677 - val_accuracy: 0.9780 - val_loss: 0.0799\n",
            "Epoch 4/10\n",
            "844/844 - 9s - 11ms/step - accuracy: 0.9845 - loss: 0.0514 - val_accuracy: 0.9820 - val_loss: 0.0648\n",
            "Epoch 5/10\n",
            "844/844 - 11s - 13ms/step - accuracy: 0.9873 - loss: 0.0407 - val_accuracy: 0.9765 - val_loss: 0.0883\n",
            "Epoch 6/10\n",
            "844/844 - 10s - 12ms/step - accuracy: 0.9902 - loss: 0.0328 - val_accuracy: 0.9788 - val_loss: 0.0842\n",
            "Epoch 7/10\n",
            "844/844 - 7s - 9ms/step - accuracy: 0.9901 - loss: 0.0320 - val_accuracy: 0.9787 - val_loss: 0.0735\n",
            "Epoch 8/10\n",
            "844/844 - 10s - 12ms/step - accuracy: 0.9919 - loss: 0.0266 - val_accuracy: 0.9795 - val_loss: 0.0850\n",
            "Epoch 9/10\n",
            "844/844 - 8s - 10ms/step - accuracy: 0.9928 - loss: 0.0233 - val_accuracy: 0.9817 - val_loss: 0.0799\n",
            "Epoch 10/10\n",
            "844/844 - 8s - 10ms/step - accuracy: 0.9933 - loss: 0.0230 - val_accuracy: 0.9815 - val_loss: 0.0780\n",
            "\n",
            "✅ Test Accuracy: 97.96%\n"
          ]
        }
      ]
    },
    {
      "cell_type": "code",
      "source": [
        "import tensorflow as tf\n",
        "from tensorflow.keras.models import Sequential\n",
        "from tensorflow.keras.layers import Dense, Flatten, Dropout\n",
        "from tensorflow.keras.datasets import mnist\n",
        "from tensorflow.keras.utils import to_categorical\n",
        "\n",
        "# 1. Load and preprocess the MNIST dataset\n",
        "(x_train, y_train), (x_test, y_test) = mnist.load_data()\n",
        "\n",
        "# Normalize pixel values to [0, 1]\n",
        "x_train = x_train.astype('float32') / 255.0\n",
        "x_test = x_test.astype('float32') / 255.0\n",
        "\n",
        "# One-hot encode labels\n",
        "y_train = to_categorical(y_train, 10)\n",
        "y_test = to_categorical(y_test, 10)\n",
        "\n",
        "# 2. Build the model using Sequential API with 5 hidden layers (ReLU) and softmax output\n",
        "model = Sequential()\n",
        "model.add(Flatten(input_shape=(28, 28)))  # Input layer\n",
        "\n",
        "# 5 hidden layers with ReLU\n",
        "model.add(Dense(512, activation='relu'))\n",
        "model.add(Dense(256, activation='relu'))\n",
        "model.add(Dense(128, activation='relu'))\n",
        "model.add(Dense(64, activation='relu'))\n",
        "model.add(Dense(32, activation='relu'))\n",
        "\n",
        "# Output layer for 10 classes with softmax\n",
        "model.add(Dense(10, activation='softmax'))\n",
        "\n",
        "# 3. Compile with Adam optimizer (Try others below)\n",
        "model.compile(optimizer='sgd',  # Try 'sgd', 'rmsprop'\n",
        "              loss='categorical_crossentropy',\n",
        "              metrics=['accuracy'])\n",
        "\n",
        "# 4. Train the model\n",
        "history = model.fit(x_train, y_train, epochs=10, batch_size=64,\n",
        "                    validation_split=0.1, verbose=2)\n",
        "\n",
        "# 5. Evaluate on test data\n",
        "test_loss, test_acc = model.evaluate(x_test, y_test, verbose=0)\n",
        "print(f\"\\n✅ Test Accuracy: {test_acc * 100:.2f}%\")\n"
      ],
      "metadata": {
        "colab": {
          "base_uri": "https://localhost:8080/"
        },
        "id": "ast57zWk4d7c",
        "outputId": "5f2566cc-485e-42ce-c84b-306e2693dcb4"
      },
      "execution_count": null,
      "outputs": [
        {
          "output_type": "stream",
          "name": "stdout",
          "text": [
            "Epoch 1/10\n",
            "844/844 - 6s - 7ms/step - accuracy: 0.7065 - loss: 0.9987 - val_accuracy: 0.9155 - val_loss: 0.3185\n",
            "Epoch 2/10\n",
            "844/844 - 10s - 12ms/step - accuracy: 0.9087 - loss: 0.3142 - val_accuracy: 0.9437 - val_loss: 0.2059\n",
            "Epoch 3/10\n",
            "844/844 - 6s - 7ms/step - accuracy: 0.9323 - loss: 0.2316 - val_accuracy: 0.9502 - val_loss: 0.1772\n",
            "Epoch 4/10\n",
            "844/844 - 9s - 11ms/step - accuracy: 0.9458 - loss: 0.1856 - val_accuracy: 0.9607 - val_loss: 0.1373\n",
            "Epoch 5/10\n",
            "844/844 - 6s - 7ms/step - accuracy: 0.9540 - loss: 0.1560 - val_accuracy: 0.9630 - val_loss: 0.1298\n",
            "Epoch 6/10\n",
            "844/844 - 11s - 12ms/step - accuracy: 0.9609 - loss: 0.1334 - val_accuracy: 0.9672 - val_loss: 0.1108\n",
            "Epoch 7/10\n",
            "844/844 - 5s - 6ms/step - accuracy: 0.9655 - loss: 0.1163 - val_accuracy: 0.9710 - val_loss: 0.1005\n",
            "Epoch 8/10\n",
            "844/844 - 6s - 7ms/step - accuracy: 0.9700 - loss: 0.1018 - val_accuracy: 0.9698 - val_loss: 0.0994\n",
            "Epoch 9/10\n",
            "844/844 - 9s - 11ms/step - accuracy: 0.9733 - loss: 0.0906 - val_accuracy: 0.9742 - val_loss: 0.0905\n",
            "Epoch 10/10\n",
            "844/844 - 6s - 7ms/step - accuracy: 0.9760 - loss: 0.0808 - val_accuracy: 0.9680 - val_loss: 0.1068\n",
            "\n",
            "✅ Test Accuracy: 95.87%\n"
          ]
        }
      ]
    }
  ]
}
{
  "nbformat": 4,
  "nbformat_minor": 0,
  "metadata": {
    "colab": {
      "provenance": []
    },
    "kernelspec": {
      "name": "python3",
      "display_name": "Python 3"
    },
    "language_info": {
      "name": "python"
    }
  },
  "cells": [
    {
      "cell_type": "markdown",
      "source": [
        "Q1)"
      ],
      "metadata": {
        "id": "TFapv7Wms9AH"
      }
    },
    {
      "cell_type": "markdown",
      "source": [
        "Counter.count refers to a class variable — shared across all instances.\n",
        "\n",
        "self._count is an instance variable — unique to each object"
      ],
      "metadata": {
        "id": "XiYvjy730eaB"
      }
    },
    {
      "cell_type": "code",
      "source": [
        "class Counter:\n",
        "    count = 0  # Class variable\n",
        "\n",
        "    def __init__(self):\n",
        "        self._count = 0  # Instance variable\n",
        "\n",
        "    def increment(self):\n",
        "        self._count += 1\n",
        "        Counter.count += 1\n",
        "\n",
        "    def get_counts(self):\n",
        "        return f\"Instance count: {self._count}, class count: {Counter.count}\"\n",
        "\n",
        "\n",
        "a = Counter()\n",
        "b = Counter()\n",
        "\n",
        "a.increment()  # a._count = 1, Counter.count = 1\n",
        "a.increment()  # a._count = 2, Counter.count = 2\n",
        "b.increment()  # b._count = 1, Counter.count = 3\n",
        "\n",
        "print(a.get_counts())  # ➜ Instance count: 2, class count: 3\n",
        "print(b.get_counts())  # ➜ Instance count: 1, class count:"
      ],
      "metadata": {
        "colab": {
          "base_uri": "https://localhost:8080/"
        },
        "id": "DoxLKtfdx5l2",
        "outputId": "ada17042-edc3-4d9c-edaa-f1ab57dd5b55"
      },
      "execution_count": 5,
      "outputs": [
        {
          "output_type": "stream",
          "name": "stdout",
          "text": [
            "Instance count: 2, class count: 3\n",
            "Instance count: 1, class count: 3\n"
          ]
        }
      ]
    },
    {
      "cell_type": "code",
      "source": [
        "class Counter:\n",
        "    count = 0  # Class variable\n",
        "\n",
        "    def __init__(self):\n",
        "        self._count = 0  # Instance variable\n",
        "\n",
        "    def increment(self):\n",
        "        self._count += 1\n",
        "        Counter.count += 1\n",
        "\n",
        "    def get_counts(self):\n",
        "        return f\"Instance count: {self._count}, class count: {Counter.count}\"\n",
        "\n",
        "\n",
        "a = Counter()\n",
        "b = Counter()\n",
        "\n",
        "a.increment()  # a._count = 1, Counter.count = 1\n",
        "a.increment()  # a._count = 2, Counter.count = 2\n",
        "b.increment()  # b._count = 1, Counter.count = 3\n",
        "\n",
        "print(a.get_counts())\n",
        "print(b.get_counts())\n"
      ],
      "metadata": {
        "colab": {
          "base_uri": "https://localhost:8080/"
        },
        "id": "bGs80MU9yOW_",
        "outputId": "6905305a-0875-4557-e55a-886a08b61a1b"
      },
      "execution_count": 6,
      "outputs": [
        {
          "output_type": "stream",
          "name": "stdout",
          "text": [
            "Instance count: 2, class count: 3\n",
            "Instance count: 1, class count: 3\n"
          ]
        }
      ]
    },
    {
      "cell_type": "markdown",
      "source": [
        "Counter.count: incremented 3 times in total (shared)\n",
        "\n",
        "a._count: incremented 2 times\n",
        "\n",
        "b._count: incremented once"
      ],
      "metadata": {
        "id": "Xt_Z42LM0vWb"
      }
    },
    {
      "cell_type": "markdown",
      "source": [],
      "metadata": {
        "id": "x0A7cLm-0RLN"
      }
    },
    {
      "cell_type": "markdown",
      "source": [
        "Q2)"
      ],
      "metadata": {
        "id": "cdq_-QQe0x7m"
      }
    },
    {
      "cell_type": "code",
      "source": [
        "def sum_all(*args):\n",
        "    return sum(args)\n",
        "\n",
        "print(\"Sum of 1, 2, 3 is:\", sum_all(1, 2, 3))\n",
        "print(\"Sum of 4, 5, 6, 7 is:\", sum_all(4, 5, 6, 7))"
      ],
      "metadata": {
        "colab": {
          "base_uri": "https://localhost:8080/"
        },
        "id": "zBwb_ZEf00Qr",
        "outputId": "dea13a01-6a4c-4d03-a94f-5b99c1b3a3c5"
      },
      "execution_count": 8,
      "outputs": [
        {
          "output_type": "stream",
          "name": "stdout",
          "text": [
            "Sum of 1, 2, 3 is: 6\n",
            "Sum of 4, 5, 6, 7 is: 22\n"
          ]
        }
      ]
    },
    {
      "cell_type": "markdown",
      "source": [
        "The sum_all function only accepts one argument args, but we are passing multiple values (sum_all(1, 2, 3)) — this causes a TypeError.\n",
        "\n",
        "The return statement is not indented.\n",
        "\n",
        "You should use *args to allow a variable number of arguments."
      ],
      "metadata": {
        "id": "2QIKUkZA1k4x"
      }
    },
    {
      "cell_type": "code",
      "source": [
        "def first_word(words):\n",
        "    return min(words)\n",
        "students = ['Mary', 'Zelda', 'Jimmy', 'Jack', 'Bartholomew', 'Gertrude']\n",
        "print(first_word(students))  # Output: 'Bartholomew'\n"
      ],
      "metadata": {
        "colab": {
          "base_uri": "https://localhost:8080/"
        },
        "id": "hxFUk36n2Bou",
        "outputId": "ce80b22b-2982-47a9-e637-98022682b3e4"
      },
      "execution_count": 9,
      "outputs": [
        {
          "output_type": "stream",
          "name": "stdout",
          "text": [
            "Bartholomew\n"
          ]
        }
      ]
    },
    {
      "cell_type": "markdown",
      "source": [
        "Q4)"
      ],
      "metadata": {
        "id": "l3FjRQ1g2IHe"
      }
    },
    {
      "cell_type": "code",
      "source": [
        "class Employee:\n",
        "    # Class variable to count number of employees\n",
        "    employee_count = 0\n",
        "    total_salary = 0  # To help calculate average salary\n",
        "\n",
        "    def __init__(self, name, family, salary, department):\n",
        "        self.name = name\n",
        "        self.family = family\n",
        "        self.salary = salary\n",
        "        self.department = department\n",
        "\n",
        "        # Update class-level counters\n",
        "        Employee.employee_count += 1\n",
        "        Employee.total_salary += salary\n",
        "\n",
        "    @classmethod\n",
        "    def average_salary(cls):\n",
        "        if cls.employee_count == 0:\n",
        "            return 0\n",
        "        return cls.total_salary / cls.employee_count\n",
        "\n",
        "    def display_info(self):\n",
        "        return f\"Name: {self.name}, Family: {self.family}, Salary: {self.salary}, Department: {self.department}\"\n",
        "\n",
        "\n",
        "# Subclass\n",
        "class FulltimeEmployee(Employee):\n",
        "    def __init__(self, name, family, salary, department):\n",
        "        super().__init__(name, family, salary, department)\n"
      ],
      "metadata": {
        "id": "xx6DHhrW2KDy"
      },
      "execution_count": 10,
      "outputs": []
    },
    {
      "cell_type": "code",
      "source": [
        "# Creating Employee instances\n",
        "e1 = Employee(\"Alice\", \"Smith\", 50000, \"HR\")\n",
        "e2 = Employee(\"Bob\", \"Johnson\", 60000, \"Finance\")\n",
        "\n",
        "# Creating FulltimeEmployee instances\n",
        "f1 = FulltimeEmployee(\"Charlie\", \"Williams\", 70000, \"Engineering\")\n",
        "f2 = FulltimeEmployee(\"Diana\", \"Brown\", 80000, \"Marketing\")\n",
        "\n",
        "# Display employee info\n",
        "print(e1.display_info())\n",
        "print(f1.display_info())\n",
        "\n",
        "# Show average salary and total count\n",
        "print(\"Total Employees:\", Employee.employee_count)\n",
        "print(\"Average Salary:\", Employee.average_salary())\n"
      ],
      "metadata": {
        "colab": {
          "base_uri": "https://localhost:8080/"
        },
        "id": "_ZR_XNjd2V3S",
        "outputId": "fcd6c484-cae3-412e-8a36-35116c8ae11b"
      },
      "execution_count": 11,
      "outputs": [
        {
          "output_type": "stream",
          "name": "stdout",
          "text": [
            "Name: Alice, Family: Smith, Salary: 50000, Department: HR\n",
            "Name: Charlie, Family: Williams, Salary: 70000, Department: Engineering\n",
            "Total Employees: 4\n",
            "Average Salary: 65000.0\n"
          ]
        }
      ]
    }
  ]
}
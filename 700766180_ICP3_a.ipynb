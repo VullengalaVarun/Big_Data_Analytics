{
  "nbformat": 4,
  "nbformat_minor": 0,
  "metadata": {
    "colab": {
      "provenance": []
    },
    "kernelspec": {
      "name": "python3",
      "display_name": "Python 3"
    },
    "language_info": {
      "name": "python"
    }
  },
  "cells": [
    {
      "cell_type": "markdown",
      "source": [
        "Q1)"
      ],
      "metadata": {
        "id": "ElH--xyeenls"
      }
    },
    {
      "cell_type": "markdown",
      "source": [
        "a)"
      ],
      "metadata": {
        "id": "EhGZwZhjfGU-"
      }
    },
    {
      "cell_type": "code",
      "source": [
        "import numpy as np\n",
        "\n",
        "# Step a: Create random vector of size 15 with integers from 1 to 20\n",
        "arr = np.random.randint(1, 21, size=15)\n",
        "\n",
        "# Step 1: Reshape to 3x5\n",
        "arr = arr.reshape(3, 5)\n",
        "\n",
        "# Step 2: Print array shape\n",
        "print(\"Array shape:\", arr.shape)\n",
        "\n",
        "# Step 3: Replace max in each row with 0\n",
        "for i in range(arr.shape[0]):\n",
        "    row_max_index = arr[i].argmax()  # Index of max element in row\n",
        "    arr[i, row_max_index] = 0\n",
        "\n",
        "# Print final array\n",
        "print(\"Final array:\\n\", arr)\n"
      ],
      "metadata": {
        "colab": {
          "base_uri": "https://localhost:8080/"
        },
        "id": "jt9jSXSqetUa",
        "outputId": "86d842ba-b89c-4c82-efc3-bfcc2271238c"
      },
      "execution_count": 1,
      "outputs": [
        {
          "output_type": "stream",
          "name": "stdout",
          "text": [
            "Array shape: (3, 5)\n",
            "Final array:\n",
            " [[ 3  0 10 12 12]\n",
            " [12  0 14  1  4]\n",
            " [11 10  3  0  1]]\n"
          ]
        }
      ]
    },
    {
      "cell_type": "markdown",
      "source": [
        "b)"
      ],
      "metadata": {
        "id": "f2G_RI4KfemE"
      }
    },
    {
      "cell_type": "code",
      "source": [
        "import numpy as np\n",
        "\n",
        "# Create a 2D array of size 4x3 with 4-byte integers (int32)\n",
        "array = np.array([[1, 2, 3],\n",
        "                  [4, 5, 6],\n",
        "                  [7, 8, 9],\n",
        "                  [10, 11, 12]], dtype=np.int32)\n",
        "\n",
        "# Print the array\n",
        "print(\"Array:\")\n",
        "print(array)\n",
        "\n",
        "# Print shape\n",
        "print(\"Shape:\", array.shape)\n",
        "\n",
        "# Print type\n",
        "print(\"Type:\", type(array))\n",
        "\n",
        "# Print data type\n",
        "print(\"Data type:\", array.dtype)\n"
      ],
      "metadata": {
        "colab": {
          "base_uri": "https://localhost:8080/"
        },
        "id": "jWU6XwnefgXX",
        "outputId": "76c067e1-fdc3-4412-b14c-062f66d134fe"
      },
      "execution_count": 2,
      "outputs": [
        {
          "output_type": "stream",
          "name": "stdout",
          "text": [
            "Array:\n",
            "[[ 1  2  3]\n",
            " [ 4  5  6]\n",
            " [ 7  8  9]\n",
            " [10 11 12]]\n",
            "Shape: (4, 3)\n",
            "Type: <class 'numpy.ndarray'>\n",
            "Data type: int32\n"
          ]
        }
      ]
    },
    {
      "cell_type": "markdown",
      "source": [
        "c)"
      ],
      "metadata": {
        "id": "tfHfULVjfjP4"
      }
    },
    {
      "cell_type": "code",
      "source": [
        "import numpy as np\n",
        "\n",
        "# Define the square array\n",
        "A = np.array([[3, -2],\n",
        "              [1,  0]])\n",
        "\n",
        "# Compute eigenvalues and right eigenvectors\n",
        "eigenvalues, eigenvectors = np.linalg.eig(A)\n",
        "\n",
        "# Print the results\n",
        "print(\"Eigenvalues:\")\n",
        "print(eigenvalues)\n",
        "\n",
        "print(\"\\nRight Eigenvectors:\")\n",
        "print(eigenvectors)\n"
      ],
      "metadata": {
        "colab": {
          "base_uri": "https://localhost:8080/"
        },
        "id": "16FMVUSIflsO",
        "outputId": "a6914729-7a63-4984-fa69-0596a99a8937"
      },
      "execution_count": 3,
      "outputs": [
        {
          "output_type": "stream",
          "name": "stdout",
          "text": [
            "Eigenvalues:\n",
            "[2. 1.]\n",
            "\n",
            "Right Eigenvectors:\n",
            "[[0.89442719 0.70710678]\n",
            " [0.4472136  0.70710678]]\n"
          ]
        }
      ]
    },
    {
      "cell_type": "markdown",
      "source": [
        "d)"
      ],
      "metadata": {
        "id": "NIw9sT-0f_y7"
      }
    },
    {
      "cell_type": "code",
      "source": [
        "import numpy as np\n",
        "\n",
        "# Define the array\n",
        "array = np.array([[0, 1, 2],\n",
        "                  [3, 4, 5]])\n",
        "\n",
        "# Compute the sum of diagonal elements\n",
        "diagonal_sum = np.trace(array)\n",
        "\n",
        "# Print the result\n",
        "print(\"Sum of diagonal elements:\", diagonal_sum)\n"
      ],
      "metadata": {
        "colab": {
          "base_uri": "https://localhost:8080/"
        },
        "id": "GHbdlrk6gBl8",
        "outputId": "f7b7b349-ea5d-4293-8e80-a3f4e2cf7ce2"
      },
      "execution_count": 4,
      "outputs": [
        {
          "output_type": "stream",
          "name": "stdout",
          "text": [
            "Sum of diagonal elements: 4\n"
          ]
        }
      ]
    },
    {
      "cell_type": "markdown",
      "source": [
        "e)"
      ],
      "metadata": {
        "id": "UW4cRVHEgM2c"
      }
    },
    {
      "cell_type": "code",
      "source": [
        "import numpy as np\n",
        "\n",
        "# Original 3x2 array\n",
        "original_array = np.array([[1, 2],\n",
        "                           [3, 4],\n",
        "                           [5, 6]])\n",
        "\n",
        "print(\"Original array (3x2):\")\n",
        "print(original_array)\n",
        "\n",
        "# Reshape to 2x3\n",
        "reshaped_array = original_array.reshape(2, 3)\n",
        "\n",
        "print(\"\\nReshaped array (2x3):\")\n",
        "print(reshaped_array)\n"
      ],
      "metadata": {
        "colab": {
          "base_uri": "https://localhost:8080/"
        },
        "id": "gP0KdPgKgffZ",
        "outputId": "8c824f2e-7815-486e-c6ea-05d494e45f38"
      },
      "execution_count": 5,
      "outputs": [
        {
          "output_type": "stream",
          "name": "stdout",
          "text": [
            "Original array (3x2):\n",
            "[[1 2]\n",
            " [3 4]\n",
            " [5 6]]\n",
            "\n",
            "Reshaped array (2x3):\n",
            "[[1 2 3]\n",
            " [4 5 6]]\n"
          ]
        }
      ]
    },
    {
      "cell_type": "markdown",
      "source": [],
      "metadata": {
        "id": "i2LRsmt9ey0i"
      }
    }
  ]
}
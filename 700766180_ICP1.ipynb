{
  "nbformat": 4,
  "nbformat_minor": 0,
  "metadata": {
    "colab": {
      "provenance": []
    },
    "kernelspec": {
      "name": "python3",
      "display_name": "Python 3"
    },
    "language_info": {
      "name": "python"
    }
  },
  "cells": [
    {
      "cell_type": "markdown",
      "source": [],
      "metadata": {
        "id": "lEll-gWtao9C"
      }
    },
    {
      "cell_type": "markdown",
      "source": [],
      "metadata": {
        "id": "69875uV3aoqa"
      }
    },
    {
      "cell_type": "markdown",
      "source": [
        "Q5 a)"
      ],
      "metadata": {
        "id": "vYzGOJt8bsgN"
      }
    },
    {
      "cell_type": "code",
      "source": [
        "# Step 1: Input the string and convert it to a list of characters\n",
        "input_string = \"Python\"\n",
        "char_list = list(input_string)\n",
        "# Step 2: Delete at least 2 characters (for example, 'P' and 'y')\n",
        "del char_list[0]  # Deleting 'P'\n",
        "del char_list[0]  # Deleting 'y' (after deleting 'P', 'y' is now at index 0)\n",
        "# Step 3: Reverse the resultant list\n",
        "char_list.reverse()\n",
        "# Step 4: Join the list back into a string and print it\n",
        "result_string = ''.join(char_list)\n",
        "print(result_string)"
      ],
      "metadata": {
        "colab": {
          "base_uri": "https://localhost:8080/"
        },
        "id": "1RKHW2M0b2kB",
        "outputId": "2d9d4e33-4e52-41af-f188-9de7e8641ef1"
      },
      "execution_count": 1,
      "outputs": [
        {
          "output_type": "stream",
          "name": "stdout",
          "text": [
            "noht\n"
          ]
        }
      ]
    },
    {
      "cell_type": "markdown",
      "source": [
        "Q5 b)"
      ],
      "metadata": {
        "id": "sqIUoSYbcKB7"
      }
    },
    {
      "cell_type": "code",
      "source": [
        "# Step 1: Take two numbers from the user\n",
        "num1 = float(input(\"Enter the first number: \"))\n",
        "num2 = float(input(\"Enter the second number: \"))\n",
        "# Step 2: Perform arithmetic operations\n",
        "addition = num1 + num2\n",
        "subtraction = num1 - num2\n",
        "multiplication = num1 * num2\n",
        "division = num1 / num2 if num2 != 0 else \"Undefined (division by zero)\"\n",
        "# Step 3: Print the results\n",
        "print(f\"Addition: {num1} + {num2} = {addition}\")\n",
        "print(f\"Subtraction: {num1} - {num2} = {subtraction}\")\n",
        "print(f\"Multiplication: {num1} * {num2} = {multiplication}\")\n",
        "print(f\"Division: {num1} / {num2} = {division}\")"
      ],
      "metadata": {
        "colab": {
          "base_uri": "https://localhost:8080/"
        },
        "id": "4VOT8ZUacX5W",
        "outputId": "17fdfcd8-e5d0-46ee-e554-8fdf2ad89abf"
      },
      "execution_count": 2,
      "outputs": [
        {
          "output_type": "stream",
          "name": "stdout",
          "text": [
            "Enter the first number: 2\n",
            "Enter the second number: 3\n",
            "Addition: 2.0 + 3.0 = 5.0\n",
            "Subtraction: 2.0 - 3.0 = -1.0\n",
            "Multiplication: 2.0 * 3.0 = 6.0\n",
            "Division: 2.0 / 3.0 = 0.6666666666666666\n"
          ]
        }
      ]
    },
    {
      "cell_type": "markdown",
      "source": [
        "Q6)"
      ],
      "metadata": {
        "id": "ZZT6AfaZcq5k"
      }
    },
    {
      "cell_type": "code",
      "source": [
        "# Step 1: Accept a sentence from the user\n",
        "sentence = input(\"Enter a sentence: \")\n",
        "\n",
        "# Step 2: Replace 'python' with 'pythons'\n",
        "modified_sentence = sentence.replace('python', 'pythons')\n",
        "\n",
        "# Step 3: Print the modified sentence\n",
        "print(modified_sentence)\n",
        "\n"
      ],
      "metadata": {
        "colab": {
          "base_uri": "https://localhost:8080/"
        },
        "id": "-m02D6kjcuvz",
        "outputId": "d52f9f6c-0c89-4b79-b334-8fde8a9990d9"
      },
      "execution_count": 6,
      "outputs": [
        {
          "output_type": "stream",
          "name": "stdout",
          "text": [
            "Enter a sentence: i love playing with python\n",
            "i love playing with pythons\n"
          ]
        }
      ]
    },
    {
      "cell_type": "markdown",
      "source": [
        "Q7)"
      ],
      "metadata": {
        "id": "GAUl50kUdiyG"
      }
    },
    {
      "cell_type": "code",
      "source": [
        "# Step 1: Accept a class score from the user\n",
        "score = float(input(\"Enter the class score (0-100): \"))\n",
        "\n",
        "# Step 2: Determine the letter grade based on the score\n",
        "if 90 <= score <= 100:\n",
        "    grade = 'A'\n",
        "elif 80 <= score < 90:\n",
        "    grade = 'B'\n",
        "elif 70 <= score < 80:\n",
        "    grade = 'C'\n",
        "elif 60 <= score < 70:\n",
        "    grade = 'D'\n",
        "elif 0 <= score < 60:\n",
        "    grade = 'F'\n",
        "else:\n",
        "    grade = 'Invalid score. Please enter a score between 0 and 100.'\n",
        "\n",
        "# Step 3: Print the letter grade\n",
        "print(f\"The letter grade is: {grade}\")\n",
        "\n"
      ],
      "metadata": {
        "colab": {
          "base_uri": "https://localhost:8080/"
        },
        "id": "8oYlSmeEdl4d",
        "outputId": "9605576c-159d-47b0-c847-4f4be54c8b74"
      },
      "execution_count": 7,
      "outputs": [
        {
          "output_type": "stream",
          "name": "stdout",
          "text": [
            "Enter the class score (0-100): 91\n",
            "The letter grade is: A\n"
          ]
        }
      ]
    },
    {
      "cell_type": "markdown",
      "source": [
        "Q8)"
      ],
      "metadata": {
        "id": "2mBpV_ZBdz8N"
      }
    },
    {
      "cell_type": "code",
      "source": [
        "# Step 1: Define the input list\n",
        "x = [23, 'Python', 23.98]\n",
        "\n",
        "# Step 2: Create a list to store the types of each element\n",
        "types_list = [type(element) for element in x]\n",
        "\n",
        "# Step 3: Print the original list and the list of types\n",
        "print(x)\n",
        "print(types_list)\n"
      ],
      "metadata": {
        "colab": {
          "base_uri": "https://localhost:8080/"
        },
        "id": "RVCbJRv6d2GJ",
        "outputId": "d74d86b2-c46e-49f9-97fd-1b2693e15116"
      },
      "execution_count": 8,
      "outputs": [
        {
          "output_type": "stream",
          "name": "stdout",
          "text": [
            "[23, 'Python', 23.98]\n",
            "[<class 'int'>, <class 'str'>, <class 'float'>]\n"
          ]
        }
      ]
    },
    {
      "cell_type": "markdown",
      "source": [
        "Q9)"
      ],
      "metadata": {
        "id": "_m3aZv95eUSd"
      }
    },
    {
      "cell_type": "code",
      "source": [
        "# Define the set of IT companies\n",
        "IT_companies = {'Facebook', 'Google', 'Microsoft', 'Apple', 'IBM', 'Oracle', 'Amazon'}\n",
        "\n",
        "# Find the length of the set\n",
        "length_of_IT_companies = len(IT_companies)\n",
        "\n",
        "# Print the length\n",
        "print(f\"The number of IT companies is: {length_of_IT_companies}\")\n"
      ],
      "metadata": {
        "colab": {
          "base_uri": "https://localhost:8080/"
        },
        "id": "iEU0-w7JeV0q",
        "outputId": "1820ed1f-56d6-4964-84de-5a2964bafeb7"
      },
      "execution_count": 9,
      "outputs": [
        {
          "output_type": "stream",
          "name": "stdout",
          "text": [
            "The number of IT companies is: 7\n"
          ]
        }
      ]
    },
    {
      "cell_type": "code",
      "source": [
        "# Define the set of IT companies\n",
        "IT_companies = {'Facebook', 'Google', 'Microsoft', 'Apple', 'IBM', 'Oracle', 'Amazon'}\n",
        "\n",
        "# Add 'Twitter' to the set\n",
        "IT_companies.add('Twitter')\n",
        "\n",
        "# Print the updated set\n",
        "print(\"Updated IT companies:\", IT_companies)\n"
      ],
      "metadata": {
        "colab": {
          "base_uri": "https://localhost:8080/"
        },
        "id": "BnDyHWWSe034",
        "outputId": "fc1ca9de-3902-448c-a152-061e37afcf89"
      },
      "execution_count": 10,
      "outputs": [
        {
          "output_type": "stream",
          "name": "stdout",
          "text": [
            "Updated IT companies: {'Twitter', 'Google', 'Apple', 'Oracle', 'Facebook', 'Amazon', 'Microsoft', 'IBM'}\n"
          ]
        }
      ]
    },
    {
      "cell_type": "code",
      "source": [
        "IT_companies = {'Facebook', 'Google', 'Microsoft', 'Apple', 'IBM', 'Oracle', 'Amazon'}\n",
        "additional_companies = {'Twitter', 'Netflix', 'Tesla'}\n",
        "\n",
        "# Merge two sets with union (|)\n",
        "all_companies = IT_companies | additional_companies\n",
        "# or: all_companies = IT_companies.union(additional_companies)\n",
        "\n",
        "print(\"All IT companies:\", all_companies)\n",
        "\n"
      ],
      "metadata": {
        "colab": {
          "base_uri": "https://localhost:8080/"
        },
        "id": "axFexDtWfJMe",
        "outputId": "c0a3eaba-4d27-4f2b-fb6d-4167096106bc"
      },
      "execution_count": 11,
      "outputs": [
        {
          "output_type": "stream",
          "name": "stdout",
          "text": [
            "All IT companies: {'Twitter', 'Google', 'Facebook', 'Netflix', 'Tesla', 'IBM', 'Apple', 'Oracle', 'Amazon', 'Microsoft'}\n"
          ]
        }
      ]
    },
    {
      "cell_type": "code",
      "source": [
        "# Define the set of IT companies\n",
        "IT_companies = {'Facebook', 'Google', 'Microsoft', 'Apple', 'IBM', 'Oracle', 'Amazon', 'Twitter'}\n",
        "\n",
        "# Remove a company (e.g., 'Twitter') using discard\n",
        "IT_companies.discard('Twitter')\n",
        "\n",
        "# Print the updated set\n",
        "print(\"Updated IT companies after removal (using discard):\", IT_companies)\n"
      ],
      "metadata": {
        "colab": {
          "base_uri": "https://localhost:8080/"
        },
        "id": "fIpPY3Xafcnw",
        "outputId": "2cc7b5ea-300d-4de3-9053-980c1c1b7b61"
      },
      "execution_count": 12,
      "outputs": [
        {
          "output_type": "stream",
          "name": "stdout",
          "text": [
            "Updated IT companies after removal (using discard): {'Google', 'Facebook', 'IBM', 'Apple', 'Oracle', 'Amazon', 'Microsoft'}\n"
          ]
        }
      ]
    },
    {
      "cell_type": "code",
      "source": [
        "my_set = {1, 2, 3}\n",
        "\n",
        "# Using remove()\n",
        "try:\n",
        "    my_set.remove(4)  # This will raise a KeyError\n",
        "except KeyError:\n",
        "    print(\"Element not found in the set.\")\n",
        "\n",
        "# Using discard()\n",
        "my_set.discard(4)  # This will not raise an error\n",
        "print(\"After discard:\", my_set)  # Output: {1, 2, 3}\n",
        "\n"
      ],
      "metadata": {
        "colab": {
          "base_uri": "https://localhost:8080/"
        },
        "id": "hSqhBt-kgGZI",
        "outputId": "606a5f27-3e22-4b78-ebc3-0220409c74d7"
      },
      "execution_count": 13,
      "outputs": [
        {
          "output_type": "stream",
          "name": "stdout",
          "text": [
            "Element not found in the set.\n",
            "After discard: {1, 2, 3}\n"
          ]
        }
      ]
    },
    {
      "cell_type": "code",
      "source": [
        "# Join A and B using the union() method\n",
        "A = {19, 22, 24, 20, 25, 26}\n",
        "B = {19, 22, 20, 25, 26, 24, 28, 27}\n",
        "joined_set = A.union(B)\n",
        "\n",
        "# Print the result\n",
        "print(\"Joined set using union():\", joined_set)\n",
        "\n"
      ],
      "metadata": {
        "colab": {
          "base_uri": "https://localhost:8080/"
        },
        "id": "aEID_sZ-hCwJ",
        "outputId": "155fe117-0dd5-4170-cfca-c7adb3e91eb9"
      },
      "execution_count": 19,
      "outputs": [
        {
          "output_type": "stream",
          "name": "stdout",
          "text": [
            "Joined set using union(): {19, 20, 22, 24, 25, 26, 27, 28}\n"
          ]
        }
      ]
    },
    {
      "cell_type": "code",
      "source": [
        "# Find the intersection of A and B using the & operator\n",
        "intersection_set = A & B\n",
        "\n",
        "# Print the result\n",
        "print(\"Intersection of A and B using & operator:\", intersection_set)\n"
      ],
      "metadata": {
        "colab": {
          "base_uri": "https://localhost:8080/"
        },
        "id": "gDBhIkwKhW2c",
        "outputId": "01065cb3-bec8-4a9c-a7b5-3691d10ae3c7"
      },
      "execution_count": 20,
      "outputs": [
        {
          "output_type": "stream",
          "name": "stdout",
          "text": [
            "Intersection of A and B using & operator: {19, 20, 22, 24, 25, 26}\n"
          ]
        }
      ]
    },
    {
      "cell_type": "code",
      "source": [
        "# Check if A is a subset of B using <= operator\n",
        "is_subset = A <= B\n",
        "\n",
        "# Print the result\n",
        "print(\"Is A a subset of B using <= operator:\", is_subset)\n"
      ],
      "metadata": {
        "colab": {
          "base_uri": "https://localhost:8080/"
        },
        "id": "Er01kEZFh9eg",
        "outputId": "acc8b01e-9161-434d-a512-0ed0c798141b"
      },
      "execution_count": 21,
      "outputs": [
        {
          "output_type": "stream",
          "name": "stdout",
          "text": [
            "Is A a subset of B using <= operator: True\n"
          ]
        }
      ]
    },
    {
      "cell_type": "code",
      "source": [
        "A = {19, 22, 24, 20, 25, 26}\n",
        "B = {19, 22, 20, 25, 26, 24, 28, 27}\n",
        "# Check if A and B are disjoint using isdisjoint() method\n",
        "are_disjoint = A.isdisjoint(B)\n",
        "\n",
        "# Print the result\n",
        "print(\"Are A and B disjoint sets?\", are_disjoint)\n"
      ],
      "metadata": {
        "colab": {
          "base_uri": "https://localhost:8080/"
        },
        "id": "-rDXur_JiIW4",
        "outputId": "6516b108-ac5c-44eb-a8ea-f06e2875871e"
      },
      "execution_count": 22,
      "outputs": [
        {
          "output_type": "stream",
          "name": "stdout",
          "text": [
            "Are A and B disjoint sets? False\n"
          ]
        }
      ]
    },
    {
      "cell_type": "code",
      "source": [
        "# Join B with A using | operator\n",
        "joined_B_A_operator = B | A\n",
        "\n",
        "# Print the result\n",
        "print(\"Joined B with A using | operator:\", joined_B_A_operator)\n",
        "# Join A with B using | operator\n",
        "joined_A_B_operator = A | B\n",
        "\n",
        "# Print the result\n",
        "print(\"Joined A with B using | operator:\", joined_A_B_operator)\n",
        "\n"
      ],
      "metadata": {
        "colab": {
          "base_uri": "https://localhost:8080/"
        },
        "id": "OmLPCJqBimDM",
        "outputId": "b70b73aa-bb76-4bb9-cccb-0fda9697d29c"
      },
      "execution_count": 24,
      "outputs": [
        {
          "output_type": "stream",
          "name": "stdout",
          "text": [
            "Joined B with A using | operator: {19, 20, 22, 24, 25, 26, 27, 28}\n",
            "Joined A with B using | operator: {19, 20, 22, 24, 25, 26, 27, 28}\n"
          ]
        }
      ]
    },
    {
      "cell_type": "code",
      "source": [
        "# Find the symmetric difference of A and B using ^ operator\n",
        "symmetric_diff_operator = A ^ B\n",
        "\n",
        "# Print the result\n",
        "print(\"Symmetric difference using ^ operator:\", symmetric_diff_operator)\n"
      ],
      "metadata": {
        "colab": {
          "base_uri": "https://localhost:8080/"
        },
        "id": "72LlVMhril2e",
        "outputId": "fad01ad5-c5bc-455c-c83c-1cc0bae44a98"
      },
      "execution_count": 25,
      "outputs": [
        {
          "output_type": "stream",
          "name": "stdout",
          "text": [
            "Symmetric difference using ^ operator: {27, 28}\n"
          ]
        }
      ]
    },
    {
      "cell_type": "code",
      "source": [
        "# Attempting to access A or B after deletion\n",
        "try:\n",
        "    print(A)\n",
        "except NameError as e:\n",
        "    print(\"Error:\", e)\n",
        "\n",
        "try:\n",
        "    print(B)\n",
        "except NameError as e:\n",
        "    print(\"Error:\", e)\n"
      ],
      "metadata": {
        "colab": {
          "base_uri": "https://localhost:8080/"
        },
        "id": "mq7_TaXdilKw",
        "outputId": "12d849c7-3cf5-44b8-b64a-63f72c92c9d1"
      },
      "execution_count": 26,
      "outputs": [
        {
          "output_type": "stream",
          "name": "stdout",
          "text": [
            "{19, 20, 22, 24, 25, 26}\n",
            "{19, 20, 22, 24, 25, 26, 27, 28}\n"
          ]
        }
      ]
    },
    {
      "cell_type": "code",
      "source": [
        "# Step 1: Create a list of ages\n",
        "ages_list = [25, 30, 25, 40, 30, 35, 40, 50]\n",
        "\n",
        "# Step 2: Convert the list to a set\n",
        "ages_set = set(ages_list)\n",
        "\n",
        "# Step 3: Compare the lengths\n",
        "length_of_list = len(ages_list)\n",
        "length_of_set = len(ages_set)\n",
        "\n",
        "# Print the results\n",
        "print(\"Length of the list:\", length_of_list)\n",
        "print(\"Length of the set:\", length_of_set)\n"
      ],
      "metadata": {
        "colab": {
          "base_uri": "https://localhost:8080/"
        },
        "id": "XE4-g-IBjYaf",
        "outputId": "121340da-4325-4cab-c822-792db179afc8"
      },
      "execution_count": 27,
      "outputs": [
        {
          "output_type": "stream",
          "name": "stdout",
          "text": [
            "Length of the list: 8\n",
            "Length of the set: 5\n"
          ]
        }
      ]
    }
  ]
}